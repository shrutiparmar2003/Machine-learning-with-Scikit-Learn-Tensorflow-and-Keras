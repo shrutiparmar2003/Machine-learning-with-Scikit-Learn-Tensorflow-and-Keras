{
  "nbformat": 4,
  "nbformat_minor": 0,
  "metadata": {
    "colab": {
      "provenance": [],
      "authorship_tag": "ABX9TyO/R6BRSAxpQ1UBlw1Biw4c",
      "include_colab_link": true
    },
    "kernelspec": {
      "name": "python3",
      "display_name": "Python 3"
    },
    "language_info": {
      "name": "python"
    }
  },
  "cells": [
    {
      "cell_type": "markdown",
      "metadata": {
        "id": "view-in-github",
        "colab_type": "text"
      },
      "source": [
        "<a href=\"https://colab.research.google.com/github/shrutiparmar2003/Machine-learning-with-Scikit-Learn-Tensorflow-and-Keras/blob/main/Training_models.ipynb\" target=\"_parent\"><img src=\"https://colab.research.google.com/assets/colab-badge.svg\" alt=\"Open In Colab\"/></a>"
      ]
    },
    {
      "cell_type": "code",
      "execution_count": 2,
      "metadata": {
        "id": "NUomJKFerNHZ"
      },
      "outputs": [],
      "source": [
        "import numpy as np"
      ]
    },
    {
      "cell_type": "code",
      "source": [
        "np.random.seed(42)"
      ],
      "metadata": {
        "id": "_CXf66h1rTdw"
      },
      "execution_count": 3,
      "outputs": []
    },
    {
      "cell_type": "code",
      "source": [
        "m=100 #taking 100 instances or sample dataset points\n",
        "X=2*np.random.rand(m,1)                               #rand(m, 1) creates an array with m rows and 1 column filled with random numbers between 0 and 1.\n",
        "                                         #So, if m = 100, this line would create an array of shape (100, 1), with each entry being a random number between 0 and 2\n",
        "y=4+3*X+np.random.rand(m,1)       #creates our target variable y, based on the formula y=4+3*X+np.random.rand(m,1)  with a bit of random noise (np.random.randn) added for variation"
      ],
      "metadata": {
        "id": "szc2YHPJrXtp"
      },
      "execution_count": 4,
      "outputs": []
    },
    {
      "cell_type": "code",
      "source": [
        "X_b = np.c_[np.ones((m, 1)), X] #the matrix X has m rows and 2 columns ,1st column has been set to all 1s and second to all random values of m"
      ],
      "metadata": {
        "id": "Gn5B4bSkuPYo"
      },
      "execution_count": 5,
      "outputs": []
    },
    {
      "cell_type": "code",
      "source": [
        "theta_best=np.linalg.inv(X_b.T@X_b)@X_b.T@y"
      ],
      "metadata": {
        "id": "8upmIF_Quo5S"
      },
      "execution_count": 6,
      "outputs": []
    },
    {
      "cell_type": "code",
      "source": [
        "print(theta_best)"
      ],
      "metadata": {
        "colab": {
          "base_uri": "https://localhost:8080/"
        },
        "id": "iC3z6uLuu_rb",
        "outputId": "789212d3-4378-45d5-d61a-8aaa426452e6"
      },
      "execution_count": 7,
      "outputs": [
        {
          "output_type": "stream",
          "name": "stdout",
          "text": [
            "[[4.51359766]\n",
            " [2.98323418]]\n"
          ]
        }
      ]
    },
    {
      "cell_type": "code",
      "source": [
        "from sklearn.linear_model import LinearRegression\n",
        "lin_reg_model=LinearRegression()\n",
        "lin_reg_model.fit(X,y)\n",
        "print(\"Intercept: \",lin_reg_model.intercept_)\n",
        "print(\"Coefficient: \",lin_reg_model.coef_)\n"
      ],
      "metadata": {
        "colab": {
          "base_uri": "https://localhost:8080/"
        },
        "id": "eSdBNPqSvKDK",
        "outputId": "4cfa379d-2b97-45bc-bd71-314b43c8d690"
      },
      "execution_count": 8,
      "outputs": [
        {
          "output_type": "stream",
          "name": "stdout",
          "text": [
            "Intercept:  [4.51359766]\n",
            "Coefficient:  [[2.98323418]]\n"
          ]
        }
      ]
    },
    {
      "cell_type": "code",
      "source": [
        "#gradient descent and its types done from book.It was mere understanding of the concept and the time taken by each type of descent to find the global minimum value of tehta so that the cost function comes minimum.\n",
        "#Cost function is the difference between the predicted values and the actual values.\n"
      ],
      "metadata": {
        "id": "64XyGl-bnEvB"
      },
      "execution_count": 9,
      "outputs": []
    },
    {
      "cell_type": "code",
      "source": [
        "#POLYNOMIAL REGRESSION\n",
        "#What we are trying to do here is to fit a linear model to a nonlinear data.\n",
        "\n",
        "np.random.seed(42)\n",
        "m=100\n",
        "X=6*np.random.rand(m,1)-3 #adding some random noise also to x\n",
        "y=0.5*X**2 + X+2+ np.random.randn(m,1)\n"
      ],
      "metadata": {
        "id": "88SJvltBnlL9"
      },
      "execution_count": 10,
      "outputs": []
    },
    {
      "cell_type": "code",
      "source": [
        "from sklearn.preprocessing import PolynomialFeatures\n",
        "poly_features=PolynomialFeatures(degree=2,include_bias=False)\n",
        "X_poly=poly_features.fit_transform(X)\n",
        "print(X[0]) #this is the value of x\n",
        "print(X_poly[0]) #this will contain value of x plus value of x square"
      ],
      "metadata": {
        "colab": {
          "base_uri": "https://localhost:8080/"
        },
        "id": "x2JlY9cwoJWT",
        "outputId": "6924c800-ca9f-4155-aaf5-790ac70e719f"
      },
      "execution_count": 12,
      "outputs": [
        {
          "output_type": "stream",
          "name": "stdout",
          "text": [
            "[-0.75275929]\n",
            "[-0.75275929  0.56664654]\n"
          ]
        }
      ]
    },
    {
      "cell_type": "code",
      "source": [
        "#Now you can fit a linear regression model to this data\n",
        "lin_reg=LinearRegression()\n",
        "lin_reg.fit(X_poly,y)\n",
        "print(lin_reg.intercept_, lin_reg.coef_)"
      ],
      "metadata": {
        "colab": {
          "base_uri": "https://localhost:8080/"
        },
        "id": "DdEtLbjTpli7",
        "outputId": "655eb94c-df02-4bee-ce47-b7af51d8dcc9"
      },
      "execution_count": 13,
      "outputs": [
        {
          "output_type": "stream",
          "name": "stdout",
          "text": [
            "[1.78134581] [[0.93366893 0.56456263]]\n"
          ]
        }
      ]
    },
    {
      "cell_type": "code",
      "source": [
        "#the model predicts the equation = 0.56x square + 0.933x+ 1.78134 which is close to y that we assumed."
      ],
      "metadata": {
        "id": "zdueSrXGrhCR"
      },
      "execution_count": null,
      "outputs": []
    }
  ]
}