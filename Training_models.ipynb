{
  "nbformat": 4,
  "nbformat_minor": 0,
  "metadata": {
    "colab": {
      "provenance": [],
      "authorship_tag": "ABX9TyP1jnVTAUUS1PfsTCVm/hs7",
      "include_colab_link": true
    },
    "kernelspec": {
      "name": "python3",
      "display_name": "Python 3"
    },
    "language_info": {
      "name": "python"
    }
  },
  "cells": [
    {
      "cell_type": "markdown",
      "metadata": {
        "id": "view-in-github",
        "colab_type": "text"
      },
      "source": [
        "<a href=\"https://colab.research.google.com/github/shrutiparmar2003/Machine-learning-with-Scikit-Learn-Tensorflow-and-Keras/blob/main/Training_models.ipynb\" target=\"_parent\"><img src=\"https://colab.research.google.com/assets/colab-badge.svg\" alt=\"Open In Colab\"/></a>"
      ]
    },
    {
      "cell_type": "code",
      "execution_count": 1,
      "metadata": {
        "id": "NUomJKFerNHZ"
      },
      "outputs": [],
      "source": [
        "import numpy as np"
      ]
    },
    {
      "cell_type": "code",
      "source": [
        "np.random.seed(42)"
      ],
      "metadata": {
        "id": "_CXf66h1rTdw"
      },
      "execution_count": 2,
      "outputs": []
    },
    {
      "cell_type": "code",
      "source": [
        "m=100 #taking 100 instances or sample dataset points\n",
        "X=2*np.random.rand(m,1)                               #rand(m, 1) creates an array with m rows and 1 column filled with random numbers between 0 and 1.\n",
        "                                         #So, if m = 100, this line would create an array of shape (100, 1), with each entry being a random number between 0 and 2\n",
        "y=4+3*X+np.random.rand(m,1)       #creates our target variable y, based on the formula y=4+3*X+np.random.rand(m,1)  with a bit of random noise (np.random.randn) added for variation"
      ],
      "metadata": {
        "id": "szc2YHPJrXtp"
      },
      "execution_count": 3,
      "outputs": []
    },
    {
      "cell_type": "code",
      "source": [
        "X_b = np.c_[np.ones((m, 1)), X] #the matrix X has m rows and 2 columns ,1st column has been set to all 1s and second to all random values of m"
      ],
      "metadata": {
        "id": "Gn5B4bSkuPYo"
      },
      "execution_count": 4,
      "outputs": []
    },
    {
      "cell_type": "code",
      "source": [
        "theta_best=np.linalg.inv(X_b.T@X_b)@X_b.T@y"
      ],
      "metadata": {
        "id": "8upmIF_Quo5S"
      },
      "execution_count": 5,
      "outputs": []
    },
    {
      "cell_type": "code",
      "source": [
        "print(theta_best)"
      ],
      "metadata": {
        "colab": {
          "base_uri": "https://localhost:8080/"
        },
        "id": "iC3z6uLuu_rb",
        "outputId": "0b7d1386-12e9-4499-f80c-bb2229733d35"
      },
      "execution_count": 6,
      "outputs": [
        {
          "output_type": "stream",
          "name": "stdout",
          "text": [
            "[[4.51359766]\n",
            " [2.98323418]]\n"
          ]
        }
      ]
    },
    {
      "cell_type": "code",
      "source": [
        "from sklearn.linear_model import LinearRegression\n",
        "lin_reg_model=LinearRegression()\n",
        "lin_reg_model.fit(X,y)\n",
        "print(\"Intercept: \",lin_reg_model.intercept_)\n",
        "print(\"Coefficient: \",lin_reg_model.coef_)\n"
      ],
      "metadata": {
        "colab": {
          "base_uri": "https://localhost:8080/"
        },
        "id": "eSdBNPqSvKDK",
        "outputId": "ecff7f80-9bc7-4211-feed-80fd2e1decca"
      },
      "execution_count": 7,
      "outputs": [
        {
          "output_type": "stream",
          "name": "stdout",
          "text": [
            "Intercept:  [4.51359766]\n",
            "Coefficient:  [[2.98323418]]\n"
          ]
        }
      ]
    },
    {
      "cell_type": "code",
      "source": [
        "#gradient descent and its types done from book.It was mere understanding of the concept and the time taken by each type of descent to find the global minimum value of theta so that the cost function evaluates to minimum.\n",
        "#Cost function is the difference between the predicted values and the actual values.\n"
      ],
      "metadata": {
        "id": "64XyGl-bnEvB"
      },
      "execution_count": 8,
      "outputs": []
    },
    {
      "cell_type": "code",
      "source": [
        "#POLYNOMIAL REGRESSION\n",
        "#What we are trying to do here is to fit a linear model to a nonlinear data.\n",
        "\n",
        "np.random.seed(42)\n",
        "m=100\n",
        "X=6*np.random.rand(m,1)-3 #adding some random noise also to x\n",
        "y=0.5*X**2 + X+2+ np.random.randn(m,1)\n"
      ],
      "metadata": {
        "id": "88SJvltBnlL9"
      },
      "execution_count": 9,
      "outputs": []
    },
    {
      "cell_type": "code",
      "source": [
        "from sklearn.preprocessing import PolynomialFeatures\n",
        "poly_features=PolynomialFeatures(degree=2,include_bias=False)\n",
        "X_poly=poly_features.fit_transform(X)\n",
        "print(X[0]) #this is the value of x\n",
        "print(X_poly[0]) #this will contain value of x plus value of x square"
      ],
      "metadata": {
        "colab": {
          "base_uri": "https://localhost:8080/"
        },
        "id": "x2JlY9cwoJWT",
        "outputId": "0dd643bb-795a-409d-a515-27568305db7c"
      },
      "execution_count": 10,
      "outputs": [
        {
          "output_type": "stream",
          "name": "stdout",
          "text": [
            "[-0.75275929]\n",
            "[-0.75275929  0.56664654]\n"
          ]
        }
      ]
    },
    {
      "cell_type": "code",
      "source": [
        "#Now you can fit a linear regression model to this data\n",
        "lin_reg=LinearRegression()\n",
        "lin_reg.fit(X_poly,y)\n",
        "print(lin_reg.intercept_, lin_reg.coef_)"
      ],
      "metadata": {
        "colab": {
          "base_uri": "https://localhost:8080/"
        },
        "id": "DdEtLbjTpli7",
        "outputId": "650c777e-ffd4-4bd1-86c2-8797f2161282"
      },
      "execution_count": 11,
      "outputs": [
        {
          "output_type": "stream",
          "name": "stdout",
          "text": [
            "[1.78134581] [[0.93366893 0.56456263]]\n"
          ]
        }
      ]
    },
    {
      "cell_type": "code",
      "source": [
        "#the model predicts the equation = 0.56x square + 0.933x+ 1.78134 which is close to the value of y that we assumed."
      ],
      "metadata": {
        "id": "zdueSrXGrhCR"
      },
      "execution_count": 12,
      "outputs": []
    },
    {
      "cell_type": "code",
      "source": [
        "#REGULARIZED LINEAR MODEL\n",
        "#regularization is a technique to prevent a model from overfitting a data. This overfitting happens when the model focuses too uch  on one feature that is gives more weight\n",
        "#to one feature and ignores others. Therefore we add a regularization term to the cost function to constarint the weights or balance the weights."
      ],
      "metadata": {
        "id": "KMBebwatibpY"
      },
      "execution_count": 13,
      "outputs": []
    },
    {
      "cell_type": "code",
      "source": [
        "#RIDGE REGRESSION\n",
        "from sklearn.linear_model import Ridge\n",
        "ridge_reg=Ridge(alpha=0.1,solver=\"cholesky\")\n",
        "ridge_reg.fit(X,y)\n",
        "ridge_reg.predict([[1.5]])\n"
      ],
      "metadata": {
        "colab": {
          "base_uri": "https://localhost:8080/"
        },
        "id": "M2H859rXjAZ9",
        "outputId": "353a2b77-18e0-4619-aa3c-e25989d74144"
      },
      "execution_count": 15,
      "outputs": [
        {
          "output_type": "execute_result",
          "data": {
            "text/plain": [
              "array([[4.82899748]])"
            ]
          },
          "metadata": {},
          "execution_count": 15
        }
      ]
    },
    {
      "cell_type": "code",
      "source": [
        "from sklearn.linear_model import SGDRegressor\n",
        "sgd_reg=SGDRegressor(penalty=\"l2\",alpha=0.1/m, tol=None,max_iter=1000,eta0=0.01,random_state=42)\n",
        "sgd_reg.fit(X,y)\n",
        "sgd_reg.predict([[1.5]])\n"
      ],
      "metadata": {
        "colab": {
          "base_uri": "https://localhost:8080/"
        },
        "id": "yDLML6_EkVGd",
        "outputId": "e84e3fda-2a19-4f18-e74d-d15a3750c8ef"
      },
      "execution_count": 17,
      "outputs": [
        {
          "output_type": "stream",
          "name": "stderr",
          "text": [
            "/usr/local/lib/python3.10/dist-packages/sklearn/utils/validation.py:1339: DataConversionWarning: A column-vector y was passed when a 1d array was expected. Please change the shape of y to (n_samples, ), for example using ravel().\n",
            "  y = column_or_1d(y, warn=True)\n"
          ]
        },
        {
          "output_type": "execute_result",
          "data": {
            "text/plain": [
              "array([4.82830117])"
            ]
          },
          "metadata": {},
          "execution_count": 17
        }
      ]
    },
    {
      "cell_type": "code",
      "source": [
        "from sklearn.linear_model import Lasso\n",
        "lasso_reg=Lasso(alpha=0.1)\n",
        "lasso_reg.fit(X,y)\n",
        "lasso_reg.predict([[1.5]])"
      ],
      "metadata": {
        "colab": {
          "base_uri": "https://localhost:8080/"
        },
        "id": "VNca7PKHqe20",
        "outputId": "72c6ca1d-7e55-4f02-d40d-c734acfa1b36"
      },
      "execution_count": 18,
      "outputs": [
        {
          "output_type": "execute_result",
          "data": {
            "text/plain": [
              "array([4.77621741])"
            ]
          },
          "metadata": {},
          "execution_count": 18
        }
      ]
    },
    {
      "cell_type": "code",
      "source": [
        "from sklearn.linear_model import SGDRegressor\n",
        "sgd_reg=SGDRegressor(penalty=\"l1\",alpha=0.1)\n",
        "sgd_reg.fit(X,y)\n",
        "sgd_reg.predict([[1.5]])\n"
      ],
      "metadata": {
        "colab": {
          "base_uri": "https://localhost:8080/"
        },
        "id": "Q2MH-2uyq8xM",
        "outputId": "c3fcbd55-2676-4cc6-c793-3fae06763279"
      },
      "execution_count": 19,
      "outputs": [
        {
          "output_type": "stream",
          "name": "stderr",
          "text": [
            "/usr/local/lib/python3.10/dist-packages/sklearn/utils/validation.py:1339: DataConversionWarning: A column-vector y was passed when a 1d array was expected. Please change the shape of y to (n_samples, ), for example using ravel().\n",
            "  y = column_or_1d(y, warn=True)\n"
          ]
        },
        {
          "output_type": "execute_result",
          "data": {
            "text/plain": [
              "array([4.75312959])"
            ]
          },
          "metadata": {},
          "execution_count": 19
        }
      ]
    }
  ]
}