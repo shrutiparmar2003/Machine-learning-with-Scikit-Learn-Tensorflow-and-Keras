{
  "nbformat": 4,
  "nbformat_minor": 0,
  "metadata": {
    "colab": {
      "provenance": [],
      "authorship_tag": "ABX9TyP2sX8xZTCBOs6x49870mJB",
      "include_colab_link": true
    },
    "kernelspec": {
      "name": "python3",
      "display_name": "Python 3"
    },
    "language_info": {
      "name": "python"
    }
  },
  "cells": [
    {
      "cell_type": "markdown",
      "metadata": {
        "id": "view-in-github",
        "colab_type": "text"
      },
      "source": [
        "<a href=\"https://colab.research.google.com/github/shrutiparmar2003/Machine-learning-with-Scikit-Learn-Tensorflow-and-Keras/blob/main/Training_models.ipynb\" target=\"_parent\"><img src=\"https://colab.research.google.com/assets/colab-badge.svg\" alt=\"Open In Colab\"/></a>"
      ]
    },
    {
      "cell_type": "code",
      "execution_count": 1,
      "metadata": {
        "id": "NUomJKFerNHZ"
      },
      "outputs": [],
      "source": [
        "import numpy as np"
      ]
    },
    {
      "cell_type": "code",
      "source": [
        "np.random.seed(42)"
      ],
      "metadata": {
        "id": "_CXf66h1rTdw"
      },
      "execution_count": 2,
      "outputs": []
    },
    {
      "cell_type": "code",
      "source": [
        "m=100 #taking 100 instances or sample dataset points\n",
        "X=2*np.random.rand(m,1)                               #rand(m, 1) creates an array with m rows and 1 column filled with random numbers between 0 and 1.\n",
        "                                         #So, if m = 100, this line would create an array of shape (100, 1), with each entry being a random number between 0 and 2\n",
        "y=4+3*X+np.random.rand(m,1)       #creates our target variable y, based on the formula y=4+3*X+np.random.rand(m,1)  with a bit of random noise (np.random.randn) added for variation"
      ],
      "metadata": {
        "id": "szc2YHPJrXtp"
      },
      "execution_count": 4,
      "outputs": []
    },
    {
      "cell_type": "code",
      "source": [
        "X_b = np.c_[np.ones((m, 1)), X] #the matrix X has m rows and 2 columns ,1st column has been set to all 1s and second to all random values of m"
      ],
      "metadata": {
        "id": "Gn5B4bSkuPYo"
      },
      "execution_count": 5,
      "outputs": []
    },
    {
      "cell_type": "code",
      "source": [
        "theta_best=np.linalg.inv(X_b.T@X_b)@X_b.T@y"
      ],
      "metadata": {
        "id": "8upmIF_Quo5S"
      },
      "execution_count": 6,
      "outputs": []
    },
    {
      "cell_type": "code",
      "source": [
        "print(theta_best)"
      ],
      "metadata": {
        "colab": {
          "base_uri": "https://localhost:8080/"
        },
        "id": "iC3z6uLuu_rb",
        "outputId": "c54d547b-1b79-4707-b273-31f00fa1fbf2"
      },
      "execution_count": 7,
      "outputs": [
        {
          "output_type": "stream",
          "name": "stdout",
          "text": [
            "[[4.51359766]\n",
            " [2.98323418]]\n"
          ]
        }
      ]
    },
    {
      "cell_type": "code",
      "source": [
        "from sklearn.linear_model import LinearRegression\n",
        "lin_reg_model=LinearRegression()\n",
        "lin_reg_model.fit(X,y)\n",
        "print(\"Intercept: \",lin_reg_model.intercept_)\n",
        "print(\"Coefficient: \",lin_reg_model.coef_)\n"
      ],
      "metadata": {
        "colab": {
          "base_uri": "https://localhost:8080/"
        },
        "id": "eSdBNPqSvKDK",
        "outputId": "a63956ee-87ab-47e3-95a8-caea9f49d0f2"
      },
      "execution_count": 9,
      "outputs": [
        {
          "output_type": "stream",
          "name": "stdout",
          "text": [
            "Intercept:  [4.51359766]\n",
            "Coefficient:  [[2.98323418]]\n"
          ]
        }
      ]
    }
  ]
}